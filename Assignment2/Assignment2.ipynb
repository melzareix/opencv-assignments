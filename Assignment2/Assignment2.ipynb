{
 "cells": [
  {
   "cell_type": "markdown",
   "metadata": {},
   "source": [
    "### CV Assignment 2\n",
    "\n",
    "1. **Mohamed Abdelaal El Sayed El Zarei 34-14613 T-13**\n",
    "2. **Omar Ashraf Hussien Sallam 34-8761 T09**"
   ]
  },
  {
   "cell_type": "code",
   "execution_count": 48,
   "metadata": {},
   "outputs": [],
   "source": [
    "import cv2\n",
    "import numpy as np\n",
    "from matplotlib import pyplot as plt\n",
    "%matplotlib inline"
   ]
  },
  {
   "cell_type": "code",
   "execution_count": 49,
   "metadata": {},
   "outputs": [],
   "source": [
    "def load_images():\n",
    "    for i in range(1, 9):\n",
    "        images.append(cv2.imread('./imagesA2/' + str(i) + '.jpg', 0))"
   ]
  },
  {
   "cell_type": "markdown",
   "metadata": {},
   "source": [
    "#### Noise Detection & Removal"
   ]
  },
  {
   "cell_type": "code",
   "execution_count": 50,
   "metadata": {},
   "outputs": [],
   "source": [
    "NOISE_THRESHOLD = 3000\n",
    "def calc_and_fix_noise(kernel, img):\n",
    "    width, height = img.shape\n",
    "    filtered = np.array(cv2.blur(img,(kernel, kernel)), dtype=np.int32)\n",
    "    variance = np.array((img - filtered), dtype=np.int32) ** 2\n",
    "    noisy_pixels = variance[variance > NOISE_THRESHOLD].shape[0]\n",
    "    percentage = (noisy_pixels / (width * height)) * 100\n",
    "    print('- Noisy Pixels Percentage:', percentage,)\n",
    "    if percentage > 8:\n",
    "        print('===> Fixing noise ...')\n",
    "        return cv2.medianBlur(img, kernel)\n",
    "    return img"
   ]
  },
  {
   "cell_type": "markdown",
   "metadata": {},
   "source": [
    "#### Blur Detection & Removal"
   ]
  },
  {
   "cell_type": "code",
   "execution_count": 51,
   "metadata": {},
   "outputs": [],
   "source": [
    "def apply_edge_filter(kernel, img):\n",
    "    Gx = cv2.Sobel(img, cv2.CV_64F, 1, 0, ksize=kernel)\n",
    "    Gy = cv2.Sobel(img, cv2.CV_64F, 0, 1, ksize=kernel)\n",
    "    G = abs(Gx) + abs(Gy)\n",
    "    return G"
   ]
  },
  {
   "cell_type": "code",
   "execution_count": 94,
   "metadata": {},
   "outputs": [],
   "source": [
    "def detect_and_fix_blur(img, k = 0.2, kernel = 3):\n",
    "    width, height = img.shape\n",
    "    G = apply_edge_filter(kernel, img)\n",
    "    percentage = ((G[G < 10].shape[0]) / (width * height)) * 100\n",
    "    laplacian_var = cv2.Laplacian(img, cv2.CV_64F).var()\n",
    "    # detect using percentage of pixels or laplacian_var\n",
    "    print('- Blurry Pixels Percentage:', percentage, '- Laplacian Variance:', laplacian_var)\n",
    "    if percentage > 20 or laplacian_var < 100:\n",
    "        print('===> Fixing blur ...')\n",
    "        edges_sobel = apply_edge_filter(1, img)\n",
    "#         smothed = cv2.blur(img,(3, 3))\n",
    "#         edges = img - smothed\n",
    "#         return img + (k * edges)\n",
    "        return img + (k * edges_sobel)\n",
    "    else:\n",
    "        return img\n",
    "        "
   ]
  },
  {
   "cell_type": "markdown",
   "metadata": {},
   "source": [
    "#### Collapse Detection & Removal"
   ]
  },
  {
   "cell_type": "code",
   "execution_count": 95,
   "metadata": {},
   "outputs": [],
   "source": [
    "def detect_and_fix_collapse(img):\n",
    "    hist, bins = np.histogram(img, bins=range(256))\n",
    "    width, height = img.shape\n",
    "    used = np.nonzero(np.apply_along_axis(lambda x: x > 10, 0, hist))[0]\n",
    "    c, d = used[0], used[used.shape[0] - 1] + 1\n",
    "    a, b = 0, 255\n",
    "    new_img = np.zeros(img.shape)\n",
    "    print('- Percentage of color range:', (used.shape[0]/255) * 100)\n",
    "    if used.shape[0] < 255:\n",
    "        new_img = ((img - c) * ((b - a) / (d - c))) + a\n",
    "        print('===> Fixing collapse ...')\n",
    "        return new_img\n",
    "    return img"
   ]
  },
  {
   "cell_type": "markdown",
   "metadata": {},
   "source": [
    "### Main Call"
   ]
  },
  {
   "cell_type": "code",
   "execution_count": 96,
   "metadata": {},
   "outputs": [],
   "source": [
    "def fix_image(img, name):\n",
    "    im = calc_and_fix_noise(5, img)\n",
    "    im = detect_and_fix_blur(im)\n",
    "    im = detect_and_fix_collapse(im)\n",
    "    cv2.imwrite(name + '.jpg', im)"
   ]
  },
  {
   "cell_type": "code",
   "execution_count": 98,
   "metadata": {},
   "outputs": [
    {
     "name": "stdout",
     "output_type": "stream",
     "text": [
      "Image 1\n",
      "========================================\n",
      "- Noisy Pixels Percentage: 3.559375\n",
      "- Blurry Pixels Percentage: 3.1681423611111112 - Laplacian Variance: 5148.6269343899985\n",
      "- Percentage of color range: 100.0\n",
      "Image 2\n",
      "========================================\n",
      "- Noisy Pixels Percentage: 12.710373263888888\n",
      "===> Fixing noise ...\n",
      "- Blurry Pixels Percentage: 15.59318576388889 - Laplacian Variance: 255.1190963275343\n",
      "- Percentage of color range: 100.0\n",
      "Image 3\n",
      "========================================\n",
      "- Noisy Pixels Percentage: 0.02634548611111111\n",
      "- Blurry Pixels Percentage: 22.8109375 - Laplacian Variance: 51.73036396989533\n",
      "===> Fixing blur ...\n",
      "- Percentage of color range: 100.0\n",
      "Image 4\n",
      "========================================\n",
      "- Noisy Pixels Percentage: 0.009244791666666667\n",
      "- Blurry Pixels Percentage: 12.896831597222222 - Laplacian Variance: 827.7480235714987\n",
      "- Percentage of color range: 42.35294117647059\n",
      "===> Fixing collapse ...\n",
      "Image 5\n",
      "========================================\n",
      "- Noisy Pixels Percentage: 8.978038194444444\n",
      "===> Fixing noise ...\n",
      "- Blurry Pixels Percentage: 26.711067708333335 - Laplacian Variance: 19.28725430380739\n",
      "===> Fixing blur ...\n",
      "- Percentage of color range: 100.0\n",
      "Image 6\n",
      "========================================\n",
      "- Noisy Pixels Percentage: 10.002690972222222\n",
      "===> Fixing noise ...\n",
      "- Blurry Pixels Percentage: 37.70677083333333 - Laplacian Variance: 40.44996221690064\n",
      "===> Fixing blur ...\n",
      "- Percentage of color range: 42.745098039215684\n",
      "===> Fixing collapse ...\n",
      "Image 7\n",
      "========================================\n",
      "- Noisy Pixels Percentage: 0.00013020833333333333\n",
      "- Blurry Pixels Percentage: 50.16974826388889 - Laplacian Variance: 10.024751360607569\n",
      "===> Fixing blur ...\n",
      "- Percentage of color range: 40.3921568627451\n",
      "===> Fixing collapse ...\n",
      "Image 8\n",
      "========================================\n",
      "- Noisy Pixels Percentage: 10.019053819444444\n",
      "===> Fixing noise ...\n",
      "- Blurry Pixels Percentage: 54.167013888888896 - Laplacian Variance: 5.154573784357519\n",
      "===> Fixing blur ...\n",
      "- Percentage of color range: 40.0\n",
      "===> Fixing collapse ...\n"
     ]
    }
   ],
   "source": [
    "images = []\n",
    "load_images()\n",
    "for i in range(len(images)):\n",
    "    print('Image ' + str(i + 1))\n",
    "    print('=' * 40)\n",
    "    fix_image(images[i], './New_images/' + str(i + 1))"
   ]
  },
  {
   "cell_type": "code",
   "execution_count": null,
   "metadata": {},
   "outputs": [],
   "source": []
  },
  {
   "cell_type": "code",
   "execution_count": null,
   "metadata": {},
   "outputs": [],
   "source": []
  }
 ],
 "metadata": {
  "kernelspec": {
   "display_name": "Python 3",
   "language": "python",
   "name": "python3"
  },
  "language_info": {
   "codemirror_mode": {
    "name": "ipython",
    "version": 3
   },
   "file_extension": ".py",
   "mimetype": "text/x-python",
   "name": "python",
   "nbconvert_exporter": "python",
   "pygments_lexer": "ipython3",
   "version": "3.7.0"
  }
 },
 "nbformat": 4,
 "nbformat_minor": 2
}
